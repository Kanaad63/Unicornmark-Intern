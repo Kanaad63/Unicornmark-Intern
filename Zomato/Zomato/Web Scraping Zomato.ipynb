{
 "cells": [
  {
   "cell_type": "code",
   "execution_count": 2,
   "id": "8f6640d0",
   "metadata": {},
   "outputs": [],
   "source": [
    "import requests\n",
    "from bs4 import BeautifulSoup\n",
    "import pandas\n",
    "import re\n",
    "import csv"
   ]
  },
  {
   "cell_type": "code",
   "execution_count": 3,
   "id": "03deb7d1",
   "metadata": {},
   "outputs": [],
   "source": [
    "\n",
    "headers = {'User-Agent': 'Mozilla/5.0 (Macintosh; Intel Mac OS X 10_11_6) AppleWebKit/537.36 (KHTML, like Gecko) Chrome/61.0.3163.100 Safari/537.36'}\n",
    "page_no = 1\n",
    "restaurant_reviews =[]\n"
   ]
  },
  {
   "cell_type": "code",
   "execution_count": null,
   "id": "058d6d6f",
   "metadata": {},
   "outputs": [],
   "source": [
    "for page in range(0, 813):\n",
    "    print(page_no)\n",
    "    response = requests.get(\"https://www.zomato.com/bangalore/restaurants?page={0}\".format(page_no), headers=headers)\n",
    "    content = response.content\n",
    "    soup = BeautifulSoup(content, \"html.parser\")\n",
    "    search_list = soup.find_all(\"div\", {'id': 'orig-search-list'})\n",
    "    list_content = search_list[0].find_all(\"div\", {'class': 'content'})\n",
    "    for i in range(0,15):\n",
    "        res_name = list_content[i].find(\"a\", {'data-result-type': 'ResCard_Name'})\n",
    "        ratings = list_content[i].find(\"div\", {'data-variation': 'mini inverted'})\n",
    "        if ratings is None:\n",
    "            continue\n",
    "        res_url = res_name.get('href')\n",
    "        response_url = requests.get(res_url, headers=headers)\n",
    "        content_url = response_url.content\n",
    "        soup_url = BeautifulSoup(content_url, \"html.parser\")\n",
    "        merch_name = soup_url.find_all(\"div\", {'class': 'header nowrap ui left'})\n",
    "        merch_ratings = soup_url.find_all(\"div\", {'class': re.compile(r'ttupper fs12px left bold zdhl2 tooltip*')})\n",
    "        try:\n",
    "            popular = soup_url.find_all(\"a\", {'data-sort': 'reviews-top'})\n",
    "            num_reviews = int(popular[0].find('span').string)\n",
    "        except:\n",
    "            continue\n",
    "        if(num_reviews > 10):\n",
    "            for j in range(0, 10):\n",
    "                name = merch_name[j].find('a')\n",
    "                ratings = merch_ratings[j].get('aria-label').split()[1]\n",
    "                dataframe ={}\n",
    "                dataframe[\"rest_name\"] = res_name.string.replace('\\n', ' ')\n",
    "                dataframe[\"cust_name\"] = name.string.replace('\\n', ' ')\n",
    "                dataframe[\"cust_rating\"] = ratings\n",
    "                restaurant_reviews.append(dataframe)\n",
    "        else:\n",
    "            for j in range(0, num_reviews):\n",
    "                name = merch_name[j].find('a')\n",
    "                ratings = merch_ratings[j].get('aria-label').split()[1]\n",
    "                dataframe ={}\n",
    "                dataframe[\"rest_name\"] = res_name.string.replace('\\n', ' ')\n",
    "                dataframe[\"cust_name\"] = name.string.replace('\\n', ' ')\n",
    "                dataframe[\"cust_rating\"] = ratings\n",
    "                restaurant_reviews.append(dataframe)\n",
    "    page_no+=1"
   ]
  },
  {
   "cell_type": "code",
   "execution_count": 5,
   "id": "0be237bd",
   "metadata": {},
   "outputs": [],
   "source": [
    "df = pandas.DataFrame(restaurant_reviews)\n",
    "df.to_csv(\"reviews.csv\", index=False)"
   ]
  },
  {
   "cell_type": "code",
   "execution_count": null,
   "id": "107827f4",
   "metadata": {},
   "outputs": [],
   "source": []
  },
  {
   "cell_type": "code",
   "execution_count": null,
   "id": "eba0a736",
   "metadata": {},
   "outputs": [],
   "source": []
  },
  {
   "cell_type": "code",
   "execution_count": null,
   "id": "da85cc2c",
   "metadata": {},
   "outputs": [],
   "source": []
  },
  {
   "cell_type": "code",
   "execution_count": null,
   "id": "c3fa765c",
   "metadata": {},
   "outputs": [],
   "source": []
  },
  {
   "cell_type": "code",
   "execution_count": null,
   "id": "639674b9",
   "metadata": {},
   "outputs": [],
   "source": []
  },
  {
   "cell_type": "code",
   "execution_count": null,
   "id": "3e6344c8",
   "metadata": {},
   "outputs": [],
   "source": []
  },
  {
   "cell_type": "code",
   "execution_count": null,
   "id": "2145b67f",
   "metadata": {},
   "outputs": [],
   "source": []
  }
 ],
 "metadata": {
  "kernelspec": {
   "display_name": "Python 3",
   "language": "python",
   "name": "python3"
  },
  "language_info": {
   "codemirror_mode": {
    "name": "ipython",
    "version": 3
   },
   "file_extension": ".py",
   "mimetype": "text/x-python",
   "name": "python",
   "nbconvert_exporter": "python",
   "pygments_lexer": "ipython3",
   "version": "3.8.8"
  }
 },
 "nbformat": 4,
 "nbformat_minor": 5
}
